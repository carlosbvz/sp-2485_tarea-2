{
 "cells": [
  {
   "cell_type": "code",
   "execution_count": 1,
   "metadata": {},
   "outputs": [],
   "source": [
    "import numpy as np\n",
    "import matplotlib.pyplot as plt\n",
    "from collections import Counter"
   ]
  },
  {
   "cell_type": "code",
   "execution_count": 2,
   "metadata": {},
   "outputs": [],
   "source": [
    "# Euclidean distance function (outside the class)\n",
    "def euclidean_distance(point1, point2):\n",
    "    return np.sqrt(np.sum((point1 - point2) ** 2))\n",
    "\n",
    "# Manhattan distance function (outside the class)\n",
    "def manhattan_distance(point1, point2):\n",
    "    return np.sum(np.abs(point1 - point2))\n",
    "\n",
    "# Minkowski distance function (outside the class)\n",
    "def minkowski_distance(point1, point2, p=3):\n",
    "    return np.sum(np.abs(point1 - point2) ** p) ** (1 / p)"
   ]
  },
  {
   "cell_type": "code",
   "execution_count": 3,
   "metadata": {},
   "outputs": [],
   "source": [
    "class CustomKNN:\n",
    "  def __init__(self, k=3, distance_func=None):\n",
    "    self.k = k\n",
    "    self.features = None\n",
    "    self.labels = None\n",
    "    self.distance_func = distance_func\n",
    "  \n",
    "  # Fit method to store the training data\n",
    "  def fit(self, X, y):\n",
    "    self.features = X\n",
    "    self.labels = y\n",
    "  \n",
    "  # Predict method to clasify a new point\n",
    "  def predict(self, test_point):\n",
    "    distances = []\n",
    "    for i in range(len(self.features)):\n",
    "      distance = self.distance_func(test_point, self.features[i])\n",
    "      distances.append((distance, self.labels[i]))\n",
    "\n",
    "    # Sort by distance and select the KNN\n",
    "    sorted_distances = sorted(distances, key=lambda x: x[0])\n",
    "\n",
    "    # Extract labels of the k nearest neighbors\n",
    "    k_nearest_labels = [label for _, label in sorted_distances[:self.k]]\n",
    "\n",
    "    most_common_label = Counter(k_nearest_labels).most_common(1)[0][0]\n",
    "\n",
    "    return most_common_label"
   ]
  },
  {
   "cell_type": "code",
   "execution_count": 4,
   "metadata": {},
   "outputs": [],
   "source": [
    "X_train = np.array([\n",
    "    [5.0, 45],  # Small\n",
    "    [5.2, 50],  # Small\n",
    "    [5.5, 60],  # Medium\n",
    "    [5.7, 65],  # Medium\n",
    "    [6.0, 80],  # Large\n",
    "    [6.2, 85]   # Large\n",
    "])\n",
    "\n",
    "y_train = np.array([0, 0, 1, 1, 2, 2])"
   ]
  },
  {
   "cell_type": "code",
   "execution_count": 5,
   "metadata": {},
   "outputs": [
    {
     "name": "stdout",
     "output_type": "stream",
     "text": [
      "Predicted class with Euclidean distance: 1\n",
      "Predicted class with Manhattan distance: 1\n",
      "Predicted class with Minkowski distance (p=3): 1\n"
     ]
    }
   ],
   "source": [
    "# Test with Euclidean distance (external function passed)\n",
    "knn_euclidean = CustomKNN(k=3, distance_func=euclidean_distance)\n",
    "knn_euclidean.fit(X_train, y_train)\n",
    "test_point = np.array([5.4, 55])\n",
    "predicted_class_euclidean = knn_euclidean.predict(test_point)\n",
    "print(f\"Predicted class with Euclidean distance: {predicted_class_euclidean}\")\n",
    "\n",
    "# Test with Manhattan distance (external function passed)\n",
    "knn_manhattan = CustomKNN(k=3, distance_func=manhattan_distance)\n",
    "knn_manhattan.fit(X_train, y_train)\n",
    "predicted_class_manhattan = knn_manhattan.predict(test_point)\n",
    "print(f\"Predicted class with Manhattan distance: {predicted_class_manhattan}\")\n",
    "\n",
    "# Test with Minkowski distance (p=3)\n",
    "knn_minkowski = CustomKNN(k=3, distance_func=lambda x, y: minkowski_distance(x, y, p=3))\n",
    "knn_minkowski.fit(X_train, y_train)\n",
    "predicted_class_minkowski = knn_minkowski.predict(test_point)\n",
    "print(f\"Predicted class with Minkowski distance (p=3): {predicted_class_minkowski}\")"
   ]
  }
 ],
 "metadata": {
  "kernelspec": {
   "display_name": "base",
   "language": "python",
   "name": "python3"
  },
  "language_info": {
   "codemirror_mode": {
    "name": "ipython",
    "version": 3
   },
   "file_extension": ".py",
   "mimetype": "text/x-python",
   "name": "python",
   "nbconvert_exporter": "python",
   "pygments_lexer": "ipython3",
   "version": "3.11.7"
  }
 },
 "nbformat": 4,
 "nbformat_minor": 2
}
